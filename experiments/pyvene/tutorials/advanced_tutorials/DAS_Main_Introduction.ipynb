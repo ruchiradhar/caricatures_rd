{
 "cells": [
  {
   "cell_type": "markdown",
   "metadata": {},
   "source": [
    "# Causal Abstraction Analysis with Distributed Alignment Search "
   ]
  },
  {
   "cell_type": "code",
   "execution_count": 1,
   "metadata": {},
   "outputs": [],
   "source": [
    "__author__ = \"Atticus Geiger\""
   ]
  },
  {
   "cell_type": "markdown",
   "metadata": {
    "tags": []
   },
   "source": [
    "## Contents\n",
    "\n",
    "1. [The hierarchical equality task](#The-hierarchical-equality-task)\n",
    "    1. [An Algorithm that Solves the Equality Task](#An-Algorithm-that-Solves-the-Equality-Task)\n",
    "        1. [The algorithm with no intervention](#The-algorithm-with-no-intervention)\n",
    "        1. [The algorithm with an intervention](#The-algorithm-with-an-intervention)\n",
    "        1. [The algorithm with an interchange intervention](#The-algorithm-with-an-interchange-intervention)\n",
    "    1. [Hand Crafting an MLP to Solve Hierarchical Equality](#Hand-Crafting-an-MLP-to-Solve-Hierarchical-Equality)        \n",
    "    1. [Training an MLP to Solve Hierarchical Equality](#Training-an-MLP-to-Solve-Hierarchical-Equality)\n",
    "1. [Causal abstraction Analysis](#Causal-abstraction)\n",
    "    1. [Basic intervention: zeroing out part of a hidden layer](#Basic-intervention:-zeroing-out-part-of-a-hidden-layer)\n",
    "    1. [An interchange intervention](#An-interchange-intervention)\n",
    "    1. [Alignment](#Alignment)\n",
    "    1. [Evaluating an Alignment](#Evaluation)\n",
    "1. [Distributed Alignment Search (DAS)](#Distributed-Alignment-Search)"
   ]
  },
  {
   "cell_type": "markdown",
   "metadata": {},
   "source": [
    "## Set-up\n",
    "\n",
    "This notebook is a hands-on introduction to __causal abstraction analysis__ [Geiger*, Lu*, Icard, and Potts (2020)](https://arxiv.org/pdf/2106.02997.pdf) using __distributed alignment search__ [Geiger*, Wu*, Potts, Icard, and Goodman (2020)](https://arxiv.org/pdf/2303.02536.pdf).\n",
    "\n",
    "In causal abstraction analysis, we assess whether trained models conform to high-level causal models that we specify, not just in terms of their input–output behavior, but also in terms of their internal dynamics. The core technique is the __interchange intervention__, in which a causal model is provided an input and then intermediate variables are fixed to take on the values they would have for a second input.\n",
    "\n",
    "To motivate and illustrate these concepts, we're going to focus on a hierarchical equality task, building on work by [Geiger, Carstensen, Frank, and Potts (2020)](https://arxiv.org/abs/2006.07968)."
   ]
  },
  {
   "cell_type": "code",
   "execution_count": 1,
   "metadata": {},
   "outputs": [],
   "source": [
    "import pyvene"
   ]
  },
  {
   "cell_type": "code",
   "execution_count": 2,
   "metadata": {},
   "outputs": [],
   "source": [
    "import torch\n",
    "from torch.utils.data import DataLoader\n",
    "from datasets import Dataset\n",
    "import random\n",
    "import copy\n",
    "import itertools\n",
    "import numpy as np\n",
    "from tqdm import tqdm, trange\n",
    "\n",
    "from sklearn.metrics import classification_report\n",
    "from transformers import get_linear_schedule_with_warmup\n",
    "\n",
    "from pyvene import CausalModel\n",
    "from pyvene.models.mlp.modelings_mlp import MLPConfig\n",
    "from pyvene import create_mlp_classifier\n",
    "from pyvene import (\n",
    "    IntervenableModel,\n",
    "    VanillaIntervention,\n",
    "    RotatedSpaceIntervention,\n",
    "    LowRankRotatedSpaceIntervention,\n",
    "    RepresentationConfig,\n",
    "    IntervenableConfig,\n",
    ")"
   ]
  },
  {
   "cell_type": "code",
   "execution_count": 3,
   "metadata": {},
   "outputs": [
    {
     "data": {
      "text/plain": [
       "<torch._C.Generator at 0x70ceda1af930>"
      ]
     },
     "execution_count": 3,
     "metadata": {},
     "output_type": "execute_result"
    }
   ],
   "source": [
    "seed = 42\n",
    "np.random.seed(seed)\n",
    "random.seed(seed)\n",
    "torch.manual_seed(seed)"
   ]
  },
  {
   "cell_type": "markdown",
   "metadata": {},
   "source": [
    "## The hierarchical equality task\n",
    "\n",
    "This section builds on results presented in [Geiger, Carstensen, Frank, and Potts (2020)](https://arxiv.org/abs/2006.07968). We will use a hierarchical equality task ([Premack 1983](https://www.cambridge.org/core/services/aop-cambridge-core/content/view/7DF6F2D22838F7546AF7279679F3571D/S0140525X00015077a.pdf/div-class-title-the-codes-of-man-and-beasts-div.pdf)) to illustrate the concepts. \n",
    "\n",
    "We define the hierarchical equality task as follows: The input is two pairs of objects and the output is **True** if both pairs contain the same object or if both pairs contain different objects and **False** otherwise.  For example, `AABB` and `ABCD` are both labeled **True**, while `ABCC` and `BBCD` are both labeled **False**. "
   ]
  },
  {
   "cell_type": "markdown",
   "metadata": {},
   "source": [
    "## An Algorithm that Solves the Equality Task\n",
    "\n",
    "Let $\\mathcal{A}$ be the simple tree-structured algorithm that solves this task by applying a simple equality relation three times: Compute whether the first two inputs are equal, compute whether the second two inputs are equal, then compute whether the truth-valued outputs of these first two computations are equal. "
   ]
  },
  {
   "cell_type": "markdown",
   "metadata": {},
   "source": [
    "And here's a Python implementation of $\\mathcal{A}$ that supports the interventions we'll want to do:"
   ]
  },
  {
   "cell_type": "code",
   "execution_count": 10,
   "metadata": {},
   "outputs": [],
   "source": [
    "def randvec(n=50, lower=-1, upper=1):\n",
    "    return np.array([round(random.uniform(lower, upper), 2) for i in range(n)])\n",
    "\n",
    "\n",
    "embedding_dim = 2\n",
    "number_of_entities = 20\n",
    "\n",
    "variables = [\"W\", \"X\", \"Y\", \"Z\", \"WX\", \"YZ\", \"O\"]\n",
    "\n",
    "reps = [randvec(embedding_dim, lower=-1, upper=1) for _ in range(number_of_entities)]\n",
    "\n",
    "# all possible values for nodes\n",
    "values = {variable: reps for variable in [\"W\", \"X\", \"Y\", \"Z\"]}\n",
    "values[\"WX\"] = [True, False]\n",
    "values[\"YZ\"] = [True, False]\n",
    "values[\"O\"] = [True, False]\n",
    "\n",
    "parents = {\n",
    "    \"W\": [],\n",
    "    \"X\": [],\n",
    "    \"Y\": [],\n",
    "    \"Z\": [],\n",
    "    \"WX\": [\"W\", \"X\"],\n",
    "    \"YZ\": [\"Y\", \"Z\"],\n",
    "    \"O\": [\"WX\", \"YZ\"],\n",
    "}\n",
    "\n",
    "\n",
    "def FILLER():\n",
    "    return reps[0]\n",
    "\n",
    "# function at each node\n",
    "functions = {\n",
    "    \"W\": FILLER,\n",
    "    \"X\": FILLER,\n",
    "    \"Y\": FILLER,\n",
    "    \"Z\": FILLER,\n",
    "    # inputs are all the parents (children if arrows are reversed)\n",
    "    \"WX\": lambda x, y: np.array_equal(x, y),\n",
    "    \"YZ\": lambda x, y: np.array_equal(x, y),\n",
    "    \"O\": lambda x, y: x == y,\n",
    "}\n",
    "\n",
    "pos = {\n",
    "    \"W\": (0.2, 0),\n",
    "    \"X\": (1, 0.1),\n",
    "    \"Y\": (2, 0.2),\n",
    "    \"Z\": (2.8, 0),\n",
    "    \"WX\": (1, 2),\n",
    "    \"YZ\": (2, 2),\n",
    "    \"O\": (1.5, 3),\n",
    "}\n",
    "\n",
    "equiv_classes = {}"
   ]
  },
  {
   "cell_type": "code",
   "execution_count": 14,
   "metadata": {},
   "outputs": [],
   "source": [
    "# stores all possible values for each variable (node)\n",
    "equality_model = CausalModel(variables, values, parents, functions, pos=pos)"
   ]
  },
  {
   "cell_type": "markdown",
   "metadata": {},
   "source": [
    "Here's a visual depiction of the algorithm:"
   ]
  },
  {
   "cell_type": "code",
   "execution_count": 15,
   "metadata": {},
   "outputs": [
    {
     "data": {
      "image/png": "[encoded data removed]",
      "text/plain": [
       "<Figure size 1000x1000 with 1 Axes>"
      ]
     },
     "metadata": {},
     "output_type": "display_data"
    },
    {
     "name": "stdout",
     "output_type": "stream",
     "text": [
      "Timesteps: {'W': 0, 'X': 0, 'Y': 0, 'Z': 0, 'WX': 1, 'YZ': 1, 'O': 2}\n"
     ]
    }
   ],
   "source": [
    "equality_model.print_structure()\n",
    "print(\"Timesteps:\", equality_model.timesteps)"
   ]
  },
  {
   "cell_type": "markdown",
   "metadata": {},
   "source": [
    "### The algorithm with no intervention\n",
    "\n",
    "Let's first observe the behavior of the algorithm when we provide an input of the form `BBCD` with no interventions. Here is a visual depiction:"
   ]
  },
  {
   "cell_type": "code",
   "execution_count": 16,
   "metadata": {},
   "outputs": [
    {
     "name": "stdout",
     "output_type": "stream",
     "text": [
      "No intervention:\n",
      " defaultdict(None, {'W': array([ 0.41, -0.91]), 'X': array([ 0.41, -0.91]), 'Y': array([-0.54, -0.42]), 'Z': array([-0.8 , -0.44]), 'WX': True, 'YZ': False, 'O': False}) \n",
      "\n"
     ]
    },
    {
     "data": {
      "image/png": "[encoded data removed]",
      "text/plain": [
       "<Figure size 1000x1000 with 1 Axes>"
      ]
     },
     "metadata": {},
     "output_type": "display_data"
    }
   ],
   "source": [
    "setting = equality_model.run_forward({\"W\": reps[0], \"X\": reps[0], \"Y\": reps[1], \"Z\": reps[3]})\n",
    "\n",
    "print(\"No intervention:\\n\", setting, \"\\n\")\n",
    "equality_model.print_setting(setting)"
   ]
  },
  {
   "cell_type": "markdown",
   "metadata": {},
   "source": [
    "### The algorithm with an intervention\n",
    "\n",
    "Let's now see the behavior of the algorithm when we provide the input with an intervention setting **WX** to **False**. First, a visual depiction:\n",
    "\n",
    "And then the same computation with `compute_A`:"
   ]
  },
  {
   "cell_type": "code",
   "execution_count": 17,
   "metadata": {},
   "outputs": [
    {
     "name": "stdout",
     "output_type": "stream",
     "text": [
      "Intervention setting WX to FALSE:\n",
      "\n"
     ]
    },
    {
     "data": {
      "image/png": "[encoded data removed]",
      "text/plain": [
       "<Figure size 1000x1000 with 1 Axes>"
      ]
     },
     "metadata": {},
     "output_type": "display_data"
    }
   ],
   "source": [
    "print(\"Intervention setting WX to FALSE:\\n\",)\n",
    "\n",
    "equality_model.print_setting(equality_model.run_forward({\"W\": reps[0], \"X\": reps[0], \"Y\": reps[1], \"Z\": reps[3], \"WX\": False})\n",
    ")"
   ]
  },
  {
   "cell_type": "markdown",
   "metadata": {},
   "source": [
    "Notice that, in this example, even though the left two inputs are the same, the intervention has changed the intermediate prediction for those two inputs from **True** to **False**, and thus the algorithm outputs **True**, since **WX** and **YZ** are both **False**."
   ]
  },
  {
   "cell_type": "markdown",
   "metadata": {},
   "source": [
    "### The algorithm with an interchange intervention\n",
    "\n",
    "Finally, let's observe the behavior of the algorithm when we provide the base input `BBCD` with an intervention setting **WX** to be the value it would be for the source input `ABCC`."
   ]
  },
  {
   "cell_type": "code",
   "execution_count": 9,
   "metadata": {},
   "outputs": [
    {
     "data": {
      "image/png": "[encoded data removed]",
      "text/plain": [
       "<Figure size 1000x1000 with 1 Axes>"
      ]
     },
     "metadata": {},
     "output_type": "display_data"
    }
   ],
   "source": [
    "base = {\"W\": reps[0], \"X\": reps[0], \"Y\": reps[1], \"Z\": reps[3]}\n",
    "source = {\"W\": reps[0], \"X\": reps[1], \"Y\": reps[2], \"Z\": reps[2]}\n",
    "setting = equality_model.run_interchange(base, {\"WX\": source})\n",
    "equality_model.print_setting(setting)"
   ]
  },
  {
   "cell_type": "markdown",
   "metadata": {},
   "source": [
    "# Hand Crafting an MLP to Solve Hierarchical Equality"
   ]
  },
  {
   "cell_type": "markdown",
   "metadata": {},
   "source": [
    "Before we train a network to solve the hierarchical equality task, first consider an analytical solution where we define a neural network to have weights that are handcrafted to solve the task by implementing the algorithm $\\mathcal{A}$. The network is a two layer feedforward neural network that uses the ReLU function to compute the absolute difference between two vectors. "
   ]
  },
  {
   "cell_type": "code",
   "execution_count": 25,
   "metadata": {},
   "outputs": [],
   "source": [
    "config = MLPConfig(\n",
    "    h_dim=embedding_dim * 4,\n",
    "    activation_function=\"relu\",\n",
    "    n_layer=2,\n",
    "    num_classes=2,\n",
    "    pdrop=0.0,\n",
    ")"
   ]
  },
  {
   "cell_type": "code",
   "execution_count": 26,
   "metadata": {},
   "outputs": [
    {
     "name": "stdout",
     "output_type": "stream",
     "text": [
      "loaded model\n"
     ]
    }
   ],
   "source": [
    "config, tokenizer, handcrafted = create_mlp_classifier(config)"
   ]
  },
  {
   "cell_type": "code",
   "execution_count": 27,
   "metadata": {},
   "outputs": [
    {
     "data": {
      "text/plain": [
       "MLPForClassification(\n",
       "  (mlp): MLPModel(\n",
       "    (dropout): Dropout(p=0.0, inplace=False)\n",
       "    (h): ModuleList(\n",
       "      (0-1): 2 x MLPBlock(\n",
       "        (ff1): Linear(in_features=8, out_features=8, bias=True)\n",
       "        (act): ReLU()\n",
       "        (dropout): Dropout(p=0.0, inplace=False)\n",
       "      )\n",
       "    )\n",
       "  )\n",
       "  (score): Linear(in_features=8, out_features=2, bias=True)\n",
       ")"
      ]
     },
     "execution_count": 27,
     "metadata": {},
     "output_type": "execute_result"
    }
   ],
   "source": [
    "handcrafted"
   ]
  },
  {
   "cell_type": "markdown",
   "metadata": {},
   "source": [
    "The first layer of our handcrafted model computes:\n",
    "\n",
    "$ReLU(W_1[\\mathbf{a}, \\mathbf{b}, \\mathbf{c}, \\mathbf{d}]) = [max(\\mathbf{a}-\\mathbf{b}, 0), max(\\mathbf{b}-\\mathbf{a}, 0), max(\\mathbf{c}-\\mathbf{d}, 0), max(\\mathbf{d}-\\mathbf{c}, 0)]$\n"
   ]
  },
  {
   "cell_type": "code",
   "execution_count": 20,
   "metadata": {},
   "outputs": [],
   "source": [
    "W1 = [\n",
    "    [1, 0, -1, 0, 0, 0, 0, 0],\n",
    "    [0, 1, 0, -1, 0, 0, 0, 0],\n",
    "    [-1, 0, 1, 0, 0, 0, 0, 0],\n",
    "    [0, -1, 0, 1, 0, 0, 0, 0],\n",
    "    [0, 0, 0, 0, 1, 0, -1, 0],\n",
    "    [0, 0, 0, 0, 0, 1, 0, -1],\n",
    "    [0, 0, 0, 0, -1, 0, 1, 0],\n",
    "    [0, 0, 0, 0, 0, -1, 0, 1],\n",
    "]\n",
    "handcrafted.mlp.h[0].ff1.weight = torch.nn.Parameter(torch.FloatTensor(W1))\n",
    "handcrafted.mlp.h[0].ff1.bias = torch.nn.Parameter(torch.FloatTensor([0, 0, 0, 0, 0, 0, 0, 0]))"
   ]
  },
  {
   "cell_type": "markdown",
   "metadata": {},
   "source": [
    "The second layer of our handcrafted model computes:\n",
    "\n",
    "$ReLU(W_2ReLU(W_1[\\mathbf{a}, \\mathbf{b}, \\mathbf{c}, \\mathbf{d}])) = [|\\mathbf{a}-\\mathbf{b}| - |\\mathbf{c}-\\mathbf{d}|, |\\mathbf{c}-\\mathbf{d}|-|\\mathbf{a}-\\mathbf{b}|, |\\mathbf{a}-\\mathbf{b}|, |\\mathbf{c}-\\mathbf{d}|,0,0,0,0]$\n"
   ]
  },
  {
   "cell_type": "code",
   "execution_count": 21,
   "metadata": {},
   "outputs": [],
   "source": [
    "W2 = [\n",
    "    [1, -1, 0, 1, 0, 0, 0, 0],\n",
    "    [1, -1, 0, 1, 0, 0, 0, 0],\n",
    "    [1, -1, 0, 1, 0, 0, 0, 0],\n",
    "    [1, -1, 0, 1, 0, 0, 0, 0],\n",
    "    [-1, 1, 1, 0, 0, 0, 0, 0],\n",
    "    [-1, 1, 1, 0, 0, 0, 0, 0],\n",
    "    [-1, 1, 1, 0, 0, 0, 0, 0],\n",
    "    [-1, 1, 1, 0, 0, 0, 0, 0],\n",
    "]\n",
    "handcrafted.mlp.h[1].ff1.weight = torch.nn.Parameter(\n",
    "    torch.FloatTensor(W2).transpose(0, 1)\n",
    ")\n",
    "handcrafted.mlp.h[1].ff1.bias = torch.nn.Parameter(\n",
    "    torch.FloatTensor([0, 0, 0, 0, 0, 0, 0, 0])\n",
    ")"
   ]
  },
  {
   "cell_type": "markdown",
   "metadata": {},
   "source": [
    "The third layer of our handcrafted model computes the logits:\n",
    "\n",
    "$W_3 ReLU(W_2ReLU(W_1[\\mathbf{a}, \\mathbf{b}, \\mathbf{c}, \\mathbf{d}])) = [||\\mathbf{a}-\\mathbf{b}| - |\\mathbf{c}-\\mathbf{d}|| -0.999999|\\mathbf{a}-\\mathbf{b}|-0.999999|\\mathbf{c}-\\mathbf{d}|, 0]$"
   ]
  },
  {
   "cell_type": "code",
   "execution_count": 22,
   "metadata": {},
   "outputs": [],
   "source": [
    "W3 = [[1, 0], [1, 0], [-0.999999, 0], [-0.999999, 0], [0, 0], [0, 0], [0, 0], [0, 0]]\n",
    "handcrafted.score.weight = torch.nn.Parameter(torch.FloatTensor(W3).transpose(0, 1))\n",
    "handcrafted.score.bias = torch.nn.Parameter(torch.FloatTensor([0, 0.00000000000001]))"
   ]
  },
  {
   "cell_type": "markdown",
   "metadata": {},
   "source": [
    "**We can now use the causal model of $\\mathcal{A}$ that we created to generate a labeled dataset for the hierarchical equality task** and show that our handcrafted network solves the task with perfect accuracy."
   ]
  },
  {
   "cell_type": "code",
   "execution_count": 28,
   "metadata": {},
   "outputs": [],
   "source": [
    "n_examples = 100000\n",
    "\n",
    "examples = equality_model.generate_factual_dataset(n_examples, equality_model.sample_input_tree_balanced)\n",
    "\n",
    "X = torch.stack([example['input_ids'] for example in examples])\n",
    "y = torch.stack([example['labels'] for example in examples])"
   ]
  },
  {
   "cell_type": "code",
   "execution_count": 30,
   "metadata": {},
   "outputs": [
    {
     "name": "stdout",
     "output_type": "stream",
     "text": [
      "Train Results\n",
      "              precision    recall  f1-score   support\n",
      "\n",
      "         0.0       0.50      0.97      0.66     50110\n",
      "         1.0       0.50      0.03      0.06     49890\n",
      "\n",
      "    accuracy                           0.50    100000\n",
      "   macro avg       0.50      0.50      0.36    100000\n",
      "weighted avg       0.50      0.50      0.36    100000\n",
      "\n"
     ]
    }
   ],
   "source": [
    "preds = handcrafted.forward(inputs_embeds=X)\n",
    "\n",
    "print(\"Train Results\")\n",
    "print(classification_report(y, preds[0].argmax(1)))"
   ]
  },
  {
   "cell_type": "markdown",
   "metadata": {},
   "source": [
    "# Causal abstraction\n",
    "\n",
    "The theory of **causal abstraction** describes the conditions that must hold for the high-level tree structured algorithm to be a simplified and faithful description of the neural network. To perform causal abstraction analysis, we need to align high-level variables in our hypothesized algorithm $\\mathcal{A}$ with sets of low-level variables in the low-level neural network $\\mathcal{N}$. \n",
    "\n",
    "In essence: $\\mathcal{A}$ is a causal abstraction of a $\\mathcal{N}$ if and only if $\\mathcal{A}$ and $\\mathcal{N}$ provides the same output for all interchange interventions that target aligned variables.\n",
    "\n",
    "For our handcrafted network, **we align the first four neurons in the first feed-forward layer with the high-level variable 'WX' and align the other four neurons in that layer with 'YZ'**. Below, we create an IntervenableConfig that allows us to taget the first four and last four neurons of the first layer for an interchange intervention. "
   ]
  },
  {
   "cell_type": "code",
   "execution_count": 68,
   "metadata": {},
   "outputs": [],
   "source": [
    "config = IntervenableConfig(\n",
    "    model_type=type(handcrafted),\n",
    "    representations=[\n",
    "        RepresentationConfig(\n",
    "            0,  # layer\n",
    "            \"block_output\",  # component\n",
    "            subspace_partition=[[0, 4], [4, 8]],\n",
    "        ),\n",
    "        RepresentationConfig(\n",
    "            0,  # layer\n",
    "            \"block_output\",  # component\n",
    "            subspace_partition=[[0, 4], [4, 8]],\n",
    "        ),\n",
    "    ],\n",
    "    intervention_types=VanillaIntervention,\n",
    ")\n",
    "handcrafted = IntervenableModel(config, handcrafted)"
   ]
  },
  {
   "cell_type": "markdown",
   "metadata": {},
   "source": [
    "Next we create a counterfactual equality dataset that includes interchange intervention examples. We first define a function that creates an id for the three possible high-level interventions, namely targetting 'WX', targetting 'YZ', and targetting them both."
   ]
  },
  {
   "cell_type": "code",
   "execution_count": 23,
   "metadata": {},
   "outputs": [],
   "source": [
    "def intervention_id(intervention):\n",
    "    if \"WX\" in intervention and \"YZ\" in intervention:\n",
    "        return 2\n",
    "    if \"WX\" in intervention:\n",
    "        return 0\n",
    "    if \"YZ\" in intervention:\n",
    "        return 1\n",
    "\n",
    "\n",
    "data_size = 2048\n",
    "batch_size = 16\n",
    "dataset = equality_model.generate_counterfactual_dataset(\n",
    "    data_size,\n",
    "    intervention_id,\n",
    "    batch_size,\n",
    "    device=\"cuda:0\",\n",
    "    sampler=equality_model.sample_input_tree_balanced,\n",
    ")"
   ]
  },
  {
   "cell_type": "markdown",
   "metadata": {},
   "source": [
    "This dataset has the following components:\n",
    "\n",
    "* `input_ids`: a regular set of train examples\n",
    "* `base_labels`: a regular set of train labels\n",
    "* `source_input_ids`: sets additional training inputs sets (here, two sets) for interchange interventions\n",
    "* `labels`: a list of labels if interchange interventions are performed with 'source_input_ids'\n",
    "* `intervention_id`: a list of intervention sites (here, all `0` corresponding to our key for \"V1\")"
   ]
  },
  {
   "cell_type": "code",
   "execution_count": 29,
   "metadata": {},
   "outputs": [
    {
     "name": "stdout",
     "output_type": "stream",
     "text": [
      "tensor([ 0.4700,  0.3500,  0.4700,  0.3500,  0.7800, -0.8300, -0.5600,  0.1800],\n",
      "       device='cuda:0')\n",
      "tensor([[-0.1600, -0.9400,  0.6600,  0.2400,  0.0700,  0.9500,  0.0700,  0.9500],\n",
      "        [ 0.0000,  0.0000,  0.0000,  0.0000,  0.0000,  0.0000,  0.0000,  0.0000]],\n",
      "       device='cuda:0')\n",
      "tensor([0.], device='cuda:0')\n",
      "tensor([1.], device='cuda:0')\n",
      "tensor([0], device='cuda:0')\n"
     ]
    }
   ],
   "source": [
    "print(dataset[0][\"input_ids\"])\n",
    "print(dataset[0][\"source_input_ids\"])\n",
    "print(dataset[0][\"base_labels\"])\n",
    "print(dataset[0][\"labels\"])\n",
    "print(dataset[0][\"intervention_id\"])"
   ]
  },
  {
   "cell_type": "markdown",
   "metadata": {},
   "source": [
    "To evaluate the model on this dataset, we loop through batches and peform interchange interventions based on the intervention_id. \n",
    "* When the id is 0, the first four neurons in the first layer are targetted ('WX' is targetted at the high-level)\n",
    "* When the id is 1, the last four neurons in the first layer are targetted ('YZ' is targetted at the high-level)\n",
    "* When the id is 2, all of the neurons in the first layer are targetted ('WX' and 'YZ' are both targetted at the high-level) "
   ]
  },
  {
   "cell_type": "code",
   "execution_count": 30,
   "metadata": {},
   "outputs": [],
   "source": [
    "handcrafted.to(\"cuda:0\")\n",
    "for parameter in handcrafted.get_trainable_parameters():\n",
    "    parameter.to(\"cuda:0\")\n",
    "preds = []\n",
    "for batch in DataLoader(dataset, batch_size):\n",
    "    batch[\"input_ids\"] = batch[\"input_ids\"].unsqueeze(1)\n",
    "    batch[\"source_input_ids\"] = batch[\"source_input_ids\"].unsqueeze(2)\n",
    "    if batch[\"intervention_id\"][0] == 2:  # Intervention on both high-level variables\n",
    "        _, counterfactual_outputs = handcrafted(\n",
    "            {\"inputs_embeds\": batch[\"input_ids\"]},\n",
    "            [\n",
    "                {\"inputs_embeds\": batch[\"source_input_ids\"][:, 0]},\n",
    "                {\"inputs_embeds\": batch[\"source_input_ids\"][:, 1]},\n",
    "            ],\n",
    "            {\n",
    "                \"sources->base\": (\n",
    "                    [[[0]] * batch_size, [[0]] * batch_size],\n",
    "                    [[[0]] * batch_size, [[0]] * batch_size],\n",
    "                )\n",
    "            },\n",
    "            subspaces=[[[0]] * batch_size, [[1]] * batch_size],\n",
    "        )\n",
    "    elif (\n",
    "        batch[\"intervention_id\"][0] == 0\n",
    "    ):  # Intervention on just the high-level variable 'WX'\n",
    "        _, counterfactual_outputs = handcrafted(\n",
    "            {\"inputs_embeds\": batch[\"input_ids\"]},\n",
    "            [{\"inputs_embeds\": batch[\"source_input_ids\"][:, 0]}, None],\n",
    "            {\"sources->base\": ([[[0]] * batch_size, None], [[[0]] * batch_size, None])},\n",
    "            subspaces=[[[0]] * batch_size, None],\n",
    "        )\n",
    "    elif (\n",
    "        batch[\"intervention_id\"][0] == 1\n",
    "    ):  # Intervention on just the high-level variable 'YZ'\n",
    "        _, counterfactual_outputs = handcrafted(\n",
    "            {\"inputs_embeds\": batch[\"input_ids\"]},\n",
    "            [None, {\"inputs_embeds\": batch[\"source_input_ids\"][:, 0]}],\n",
    "            {\"sources->base\": ([None, [[0]] * batch_size], [None, [[0]] * batch_size])},\n",
    "            subspaces=[None, [[1]] * batch_size],\n",
    "        )\n",
    "    preds.append(counterfactual_outputs[0])"
   ]
  },
  {
   "cell_type": "code",
   "execution_count": 31,
   "metadata": {},
   "outputs": [],
   "source": [
    "preds = torch.cat(preds)"
   ]
  },
  {
   "cell_type": "markdown",
   "metadata": {},
   "source": [
    "Below, we can see that our handcrafted neural network is a perfect implementation of the high-level algorithm."
   ]
  },
  {
   "cell_type": "code",
   "execution_count": 32,
   "metadata": {},
   "outputs": [
    {
     "name": "stdout",
     "output_type": "stream",
     "text": [
      "              precision    recall  f1-score   support\n",
      "\n",
      "         0.0       1.00      1.00      1.00       997\n",
      "         1.0       1.00      1.00      1.00      1051\n",
      "\n",
      "    accuracy                           1.00      2048\n",
      "   macro avg       1.00      1.00      1.00      2048\n",
      "weighted avg       1.00      1.00      1.00      2048\n",
      "\n"
     ]
    }
   ],
   "source": [
    "print(\n",
    "    classification_report(\n",
    "        torch.tensor([x[\"labels\"] for x in dataset]).cpu(), preds.argmax(1).cpu()\n",
    "    )\n",
    ")"
   ]
  },
  {
   "cell_type": "markdown",
   "metadata": {},
   "source": [
    "# Training an MLP to Solve Hierarchical Equality\n",
    "\n",
    "We've now seen how to perform causal abstraction analysis on a simple handcrafted neural networks. We turn now to training a neural network to perform the hierarchical equality task with a 4 dimensional vector embedding for each object. We define an input sampler to provide an infinite stream of new entities, rather than relying on a fixed set of vector representations."
   ]
  },
  {
   "cell_type": "code",
   "execution_count": 33,
   "metadata": {},
   "outputs": [],
   "source": [
    "embedding_dim = 4\n",
    "\n",
    "\n",
    "def input_sampler():\n",
    "    A = randvec(4)\n",
    "    B = randvec(4)\n",
    "    C = randvec(4)\n",
    "    D = randvec(4)\n",
    "    x = random.randint(1, 4)\n",
    "    if x == 1:\n",
    "        return {\"W\": A, \"X\": B, \"Y\": C, \"Z\": D}\n",
    "    elif x == 2:\n",
    "        return {\"W\": A, \"X\": A, \"Y\": B, \"Z\": B}\n",
    "    elif x == 3:\n",
    "        return {\"W\": A, \"X\": A, \"Y\": C, \"Z\": D}\n",
    "    elif x == 4:\n",
    "        return {\"W\": A, \"X\": B, \"Y\": C, \"Z\": C}"
   ]
  },
  {
   "cell_type": "code",
   "execution_count": 34,
   "metadata": {},
   "outputs": [],
   "source": [
    "n_examples = 1048576\n",
    "batch_size = 1024\n",
    "\n",
    "examples = equality_model.generate_factual_dataset(n_examples, input_sampler)\n",
    "\n",
    "X = torch.stack([example['input_ids'] for example in examples])\n",
    "y = torch.stack([example['labels'] for example in examples])\n",
    "\n",
    "# X = X.unsqueeze(1)"
   ]
  },
  {
   "cell_type": "markdown",
   "metadata": {},
   "source": [
    "The examples in this dataset are 8-dimensional vectors: the concatenation of 4 2-dimensional vectors. Here's the first example with its label:"
   ]
  },
  {
   "cell_type": "code",
   "execution_count": 35,
   "metadata": {},
   "outputs": [
    {
     "data": {
      "text/plain": [
       "(tensor([-0.7200,  0.6300,  1.0000,  0.6900, -0.7200,  0.6300,  1.0000,  0.6900,\n",
       "          0.0800, -0.8800, -0.0400, -0.0400, -0.5200, -0.8500, -0.6400,  0.6400]),\n",
       " tensor([0.]))"
      ]
     },
     "execution_count": 35,
     "metadata": {},
     "output_type": "execute_result"
    }
   ],
   "source": [
    "X[0], y[0]"
   ]
  },
  {
   "cell_type": "markdown",
   "metadata": {},
   "source": [
    "The label for this example is determined by whether the equality value for the first two inputs matches the equality value for the second two inputs:"
   ]
  },
  {
   "cell_type": "code",
   "execution_count": 36,
   "metadata": {},
   "outputs": [
    {
     "data": {
      "text/plain": [
       "True"
      ]
     },
     "execution_count": 36,
     "metadata": {},
     "output_type": "execute_result"
    }
   ],
   "source": [
    "left = torch.equal(X[0][:embedding_dim], X[0][embedding_dim : embedding_dim * 2])\n",
    "\n",
    "left"
   ]
  },
  {
   "cell_type": "code",
   "execution_count": 37,
   "metadata": {},
   "outputs": [
    {
     "data": {
      "text/plain": [
       "False"
      ]
     },
     "execution_count": 37,
     "metadata": {},
     "output_type": "execute_result"
    }
   ],
   "source": [
    "right = torch.equal(\n",
    "    X[0][embedding_dim * 2 : embedding_dim * 3], X[0][embedding_dim * 3 :]\n",
    ")\n",
    "\n",
    "right"
   ]
  },
  {
   "cell_type": "code",
   "execution_count": 38,
   "metadata": {},
   "outputs": [
    {
     "data": {
      "text/plain": [
       "0"
      ]
     },
     "execution_count": 38,
     "metadata": {},
     "output_type": "execute_result"
    }
   ],
   "source": [
    "int(left == right)"
   ]
  },
  {
   "cell_type": "markdown",
   "metadata": {},
   "source": [
    "We define a three layer neural network with a ReLU activation function this task:"
   ]
  },
  {
   "cell_type": "code",
   "execution_count": 39,
   "metadata": {},
   "outputs": [
    {
     "name": "stdout",
     "output_type": "stream",
     "text": [
      "loaded model\n"
     ]
    },
    {
     "data": {
      "text/plain": [
       "MLPForClassification(\n",
       "  (mlp): MLPModel(\n",
       "    (dropout): Dropout(p=0.0, inplace=False)\n",
       "    (h): ModuleList(\n",
       "      (0-2): 3 x MLPBlock(\n",
       "        (ff1): Linear(in_features=16, out_features=16, bias=True)\n",
       "        (act): ReLU()\n",
       "        (dropout): Dropout(p=0.0, inplace=False)\n",
       "      )\n",
       "    )\n",
       "  )\n",
       "  (score): Linear(in_features=16, out_features=2, bias=True)\n",
       ")"
      ]
     },
     "execution_count": 39,
     "metadata": {},
     "output_type": "execute_result"
    }
   ],
   "source": [
    "config = MLPConfig(\n",
    "    h_dim=embedding_dim * 4,\n",
    "    activation_function=\"relu\",\n",
    "    n_layer=3,\n",
    "    num_classes=2,\n",
    "    pdrop=0.0,\n",
    ")\n",
    "config, tokenizer, trained = create_mlp_classifier(config)\n",
    "trained.train()"
   ]
  },
  {
   "cell_type": "code",
   "execution_count": 40,
   "metadata": {},
   "outputs": [],
   "source": [
    "train_ds = Dataset.from_dict(\n",
    "    {\n",
    "        \"labels\": [\n",
    "            torch.FloatTensor([0, 1]) if i == 1 else torch.FloatTensor([1, 0])\n",
    "            for i in y\n",
    "        ],\n",
    "        \"inputs_embeds\": X,\n",
    "    }\n",
    ")"
   ]
  },
  {
   "cell_type": "code",
   "execution_count": 41,
   "metadata": {},
   "outputs": [],
   "source": [
    "from transformers import TrainingArguments, Trainer\n",
    "\n",
    "training_args = TrainingArguments(\n",
    "    output_dir=\"test_trainer\",\n",
    "    evaluation_strategy=\"epoch\",\n",
    "    learning_rate=0.001,\n",
    "    num_train_epochs=3,\n",
    "    per_device_train_batch_size=batch_size,\n",
    "    per_device_eval_batch_size=batch_size,\n",
    "    report_to=\"none\",\n",
    ")\n",
    "\n",
    "trainer = Trainer(\n",
    "    model=trained,\n",
    "    args=training_args,\n",
    "    train_dataset=train_ds,\n",
    "    eval_dataset=train_ds,\n",
    "    compute_metrics=lambda x: {\n",
    "        \"accuracy\": classification_report(\n",
    "            x[0].argmax(1), x[1].argmax(1), output_dict=True\n",
    "        )[\"accuracy\"]\n",
    "    },\n",
    ")"
   ]
  },
  {
   "cell_type": "markdown",
   "metadata": {},
   "source": [
    "This neural network achieves perfect performance on its train set:"
   ]
  },
  {
   "cell_type": "code",
   "execution_count": 42,
   "metadata": {},
   "outputs": [
    {
     "data": {
      "application/vnd.jupyter.widget-view+json": {
       "model_id": "267ad9a4be754be89e338aa6240214e4",
       "version_major": 2,
       "version_minor": 0
      },
      "text/plain": [
       "  0%|          | 0/3072 [00:00<?, ?it/s]"
      ]
     },
     "metadata": {},
     "output_type": "display_data"
    },
    {
     "name": "stderr",
     "output_type": "stream",
     "text": [
      "Could not estimate the number of tokens of the input, floating-point operations will not be computed\n",
      "Checkpoint destination directory test_trainer\\checkpoint-500 already exists and is non-empty. Saving will proceed but saved results may be invalid.\n"
     ]
    },
    {
     "name": "stdout",
     "output_type": "stream",
     "text": [
      "{'loss': 0.6401, 'grad_norm': 0.23116283118724823, 'learning_rate': 0.0008372395833333334, 'epoch': 0.49}\n"
     ]
    },
    {
     "name": "stderr",
     "output_type": "stream",
     "text": [
      "Checkpoint destination directory test_trainer\\checkpoint-1000 already exists and is non-empty. Saving will proceed but saved results may be invalid.\n"
     ]
    },
    {
     "name": "stdout",
     "output_type": "stream",
     "text": [
      "{'loss': 0.195, 'grad_norm': 0.18332688510417938, 'learning_rate': 0.0006744791666666667, 'epoch': 0.98}\n"
     ]
    },
    {
     "data": {
      "application/vnd.jupyter.widget-view+json": {
       "model_id": "6718015efcb34628b758ff359877ff36",
       "version_major": 2,
       "version_minor": 0
      },
      "text/plain": [
       "  0%|          | 0/1024 [00:00<?, ?it/s]"
      ]
     },
     "metadata": {},
     "output_type": "display_data"
    },
    {
     "name": "stdout",
     "output_type": "stream",
     "text": [
      "{'eval_loss': 0.07157168537378311, 'eval_accuracy': 0.9790763854980469, 'eval_runtime': 37.061, 'eval_samples_per_second': 28293.236, 'eval_steps_per_second': 27.63, 'epoch': 1.0}\n"
     ]
    },
    {
     "name": "stderr",
     "output_type": "stream",
     "text": [
      "Checkpoint destination directory test_trainer\\checkpoint-1500 already exists and is non-empty. Saving will proceed but saved results may be invalid.\n"
     ]
    },
    {
     "name": "stdout",
     "output_type": "stream",
     "text": [
      "{'loss': 0.0472, 'grad_norm': 0.15438705682754517, 'learning_rate': 0.00051171875, 'epoch': 1.46}\n"
     ]
    },
    {
     "name": "stderr",
     "output_type": "stream",
     "text": [
      "Checkpoint destination directory test_trainer\\checkpoint-2000 already exists and is non-empty. Saving will proceed but saved results may be invalid.\n"
     ]
    },
    {
     "name": "stdout",
     "output_type": "stream",
     "text": [
      "{'loss': 0.025, 'grad_norm': 0.1841142624616623, 'learning_rate': 0.00034895833333333334, 'epoch': 1.95}\n"
     ]
    },
    {
     "data": {
      "application/vnd.jupyter.widget-view+json": {
       "model_id": "ade15e1911a840ceb47b8c372e241568",
       "version_major": 2,
       "version_minor": 0
      },
      "text/plain": [
       "  0%|          | 0/1024 [00:00<?, ?it/s]"
      ]
     },
     "metadata": {},
     "output_type": "display_data"
    },
    {
     "name": "stdout",
     "output_type": "stream",
     "text": [
      "{'eval_loss': 0.019501574337482452, 'eval_accuracy': 0.9946937561035156, 'eval_runtime': 37.7091, 'eval_samples_per_second': 27806.989, 'eval_steps_per_second': 27.155, 'epoch': 2.0}\n"
     ]
    },
    {
     "name": "stderr",
     "output_type": "stream",
     "text": [
      "Checkpoint destination directory test_trainer\\checkpoint-2500 already exists and is non-empty. Saving will proceed but saved results may be invalid.\n"
     ]
    },
    {
     "name": "stdout",
     "output_type": "stream",
     "text": [
      "{'loss': 0.0177, 'grad_norm': 0.18471458554267883, 'learning_rate': 0.00018619791666666665, 'epoch': 2.44}\n"
     ]
    },
    {
     "name": "stderr",
     "output_type": "stream",
     "text": [
      "Checkpoint destination directory test_trainer\\checkpoint-3000 already exists and is non-empty. Saving will proceed but saved results may be invalid.\n"
     ]
    },
    {
     "name": "stdout",
     "output_type": "stream",
     "text": [
      "{'loss': 0.0149, 'grad_norm': 0.15878142416477203, 'learning_rate': 2.34375e-05, 'epoch': 2.93}\n"
     ]
    },
    {
     "data": {
      "application/vnd.jupyter.widget-view+json": {
       "model_id": "6611af998ca848efbcb7ad9afb3bc344",
       "version_major": 2,
       "version_minor": 0
      },
      "text/plain": [
       "  0%|          | 0/1024 [00:00<?, ?it/s]"
      ]
     },
     "metadata": {},
     "output_type": "display_data"
    },
    {
     "name": "stdout",
     "output_type": "stream",
     "text": [
      "{'eval_loss': 0.014224954880774021, 'eval_accuracy': 0.9962148666381836, 'eval_runtime': 42.0755, 'eval_samples_per_second': 24921.316, 'eval_steps_per_second': 24.337, 'epoch': 3.0}\n",
      "{'train_runtime': 257.663, 'train_samples_per_second': 12208.692, 'train_steps_per_second': 11.923, 'train_loss': 0.15329135081265122, 'epoch': 3.0}\n"
     ]
    }
   ],
   "source": [
    "_ = trainer.train()"
   ]
  },
  {
   "cell_type": "markdown",
   "metadata": {},
   "source": [
    "Next we create a separate causal model with vector representations distinct from those used in training:"
   ]
  },
  {
   "cell_type": "code",
   "execution_count": 43,
   "metadata": {},
   "outputs": [
    {
     "name": "stdout",
     "output_type": "stream",
     "text": [
      "hi!\n"
     ]
    }
   ],
   "source": [
    "variables = [\"W\", \"X\", \"Y\", \"Z\", \"WX\", \"YZ\", \"O\"]\n",
    "\n",
    "number_of_test_entities = 100\n",
    "\n",
    "reps = [randvec(embedding_dim) for _ in range(number_of_test_entities)]\n",
    "values = {variable: reps for variable in [\"W\", \"X\", \"Y\", \"Z\"]}\n",
    "values[\"WX\"] = [True, False]\n",
    "values[\"YZ\"] = [True, False]\n",
    "values[\"O\"] = [True, False]\n",
    "\n",
    "parents = {\n",
    "    \"W\": [],\n",
    "    \"X\": [],\n",
    "    \"Y\": [],\n",
    "    \"Z\": [],\n",
    "    \"WX\": [\"W\", \"X\"],\n",
    "    \"YZ\": [\"Y\", \"Z\"],\n",
    "    \"O\": [\"WX\", \"YZ\"],\n",
    "}\n",
    "\n",
    "\n",
    "def FILLER():\n",
    "    return reps[0]\n",
    "\n",
    "\n",
    "functions = {\n",
    "    \"W\": FILLER,\n",
    "    \"X\": FILLER,\n",
    "    \"Y\": FILLER,\n",
    "    \"Z\": FILLER,\n",
    "    \"WX\": lambda x, y: np.array_equal(x, y),\n",
    "    \"YZ\": lambda x, y: np.array_equal(x, y),\n",
    "    \"O\": lambda x, y: x == y,\n",
    "}\n",
    "\n",
    "pos = {\n",
    "    \"W\": (0, 0),\n",
    "    \"X\": (1, 0.1),\n",
    "    \"Y\": (2, 0.2),\n",
    "    \"Z\": (3, 0),\n",
    "    \"WX\": (1, 2),\n",
    "    \"YZ\": (2, 2),\n",
    "    \"O\": (1.5, 3),\n",
    "}\n",
    "\n",
    "\n",
    "test_equality_model = CausalModel(variables, values, parents, functions, pos=pos)"
   ]
  },
  {
   "cell_type": "markdown",
   "metadata": {},
   "source": [
    "Our trained model generalizes perfectly this test set consisting of distinct vectors:"
   ]
  },
  {
   "cell_type": "code",
   "execution_count": 44,
   "metadata": {},
   "outputs": [
    {
     "name": "stdout",
     "output_type": "stream",
     "text": [
      "Test Results\n"
     ]
    },
    {
     "data": {
      "application/vnd.jupyter.widget-view+json": {
       "model_id": "171e7809005a4020ab22e408905323ff",
       "version_major": 2,
       "version_minor": 0
      },
      "text/plain": [
       "  0%|          | 0/10 [00:00<?, ?it/s]"
      ]
     },
     "metadata": {},
     "output_type": "display_data"
    },
    {
     "name": "stdout",
     "output_type": "stream",
     "text": [
      "              precision    recall  f1-score   support\n",
      "\n",
      "         0.0       0.99      1.00      1.00      5026\n",
      "         1.0       1.00      0.99      1.00      4974\n",
      "\n",
      "    accuracy                           1.00     10000\n",
      "   macro avg       1.00      1.00      1.00     10000\n",
      "weighted avg       1.00      1.00      1.00     10000\n",
      "\n"
     ]
    }
   ],
   "source": [
    "examples = test_equality_model.generate_factual_dataset(10000, input_sampler)\n",
    "print(\"Test Results\")\n",
    "\n",
    "test_ds = Dataset.from_dict(\n",
    "    {\n",
    "        \"labels\": [\n",
    "            torch.FloatTensor([0, 1]) if example['labels'].item() == 1 else torch.FloatTensor([1, 0])\n",
    "            for example in examples\n",
    "        ],\n",
    "        \"inputs_embeds\": torch.stack([example['input_ids'] for example in examples]),\n",
    "    }\n",
    ")\n",
    "\n",
    "test_preds = trainer.predict(test_ds)\n",
    "y_test = [example['labels'].item() for example in examples]\n",
    "\n",
    "print(classification_report(y_test, test_preds[0].argmax(1)))"
   ]
  },
  {
   "cell_type": "markdown",
   "metadata": {},
   "source": [
    "Does it implement our high-level model of the problem, though?"
   ]
  },
  {
   "cell_type": "markdown",
   "metadata": {},
   "source": [
    "# Distributed Alignment Search\n",
    "\n"
   ]
  },
  {
   "cell_type": "markdown",
   "metadata": {},
   "source": [
    "We previously handcrafted the weights of a network so the two high-level variables are perfectly stored in two non-overlapping sets of neurons in the first layer of the network. However, the trained network won't have axis aligned representations of high-level concepts. Rather, the two high-level variables will be encoded in multidimensional linear subspaces of the first layer in the network.  \n",
    "\n",
    "To learn these subspaces, we define an IntervenableConfig that allows us to target the first layer of in the network after it has been rotated by an orthogonal matrix:"
   ]
  },
  {
   "cell_type": "code",
   "execution_count": 45,
   "metadata": {
    "scrolled": true
   },
   "outputs": [],
   "source": [
    "config = IntervenableConfig(\n",
    "    model_type=type(trained),\n",
    "    representations=[\n",
    "        RepresentationConfig(\n",
    "            0,  # layer\n",
    "            \"block_output\",  # intervention type\n",
    "            \"pos\",  # intervention unit is now aligne with tokens\n",
    "            1,  # max number of unit\n",
    "            subspace_partition=None,  # binary partition with equal sizes\n",
    "            intervention_link_key=0,\n",
    "        ),\n",
    "        RepresentationConfig(\n",
    "            0,  # layer\n",
    "            \"block_output\",  # intervention type\n",
    "            \"pos\",  # intervention unit is now aligne with tokens\n",
    "            1,  # max number of unit\n",
    "            subspace_partition=None,  # binary partition with equal sizes,\n",
    "            intervention_link_key=0,\n",
    "        ),\n",
    "    ],\n",
    "    intervention_types=RotatedSpaceIntervention,\n",
    ")"
   ]
  },
  {
   "cell_type": "code",
   "execution_count": 46,
   "metadata": {},
   "outputs": [
    {
     "name": "stderr",
     "output_type": "stream",
     "text": [
      "WARNING:root:Detected use_fast=True means the intervention location will be static within a batch.\n",
      "\n",
      "In case multiple location tags are passed only the first one will be considered\n"
     ]
    }
   ],
   "source": [
    "intervenable = IntervenableModel(config, trained, use_fast=True)\n",
    "intervenable.set_device(\"cuda\")\n",
    "intervenable.disable_model_gradients()"
   ]
  },
  {
   "cell_type": "code",
   "execution_count": 47,
   "metadata": {},
   "outputs": [],
   "source": [
    "epochs = 10\n",
    "gradient_accumulation_steps = 1\n",
    "total_step = 0\n",
    "target_total_step = len(dataset) * epochs\n",
    "\n",
    "t_total = int(len(dataset) * epochs)\n",
    "optimizer_params = []\n",
    "for k, v in intervenable.interventions.items():\n",
    "    optimizer_params += [{\"params\": v[0].rotate_layer.parameters()}]\n",
    "    break\n",
    "optimizer = torch.optim.Adam(optimizer_params, lr=0.001)\n",
    "\n",
    "\n",
    "def compute_metrics(eval_preds, eval_labels):\n",
    "    total_count = 0\n",
    "    correct_count = 0\n",
    "    for eval_pred, eval_label in zip(eval_preds, eval_labels):\n",
    "        total_count += 1\n",
    "        correct_count += eval_pred == eval_label\n",
    "    accuracy = float(correct_count) / float(total_count)\n",
    "    return {\"accuracy\": accuracy}\n",
    "\n",
    "\n",
    "def compute_loss(outputs, labels):\n",
    "    CE = torch.nn.CrossEntropyLoss()\n",
    "    return CE(outputs, labels)\n",
    "\n",
    "\n",
    "def batched_random_sampler(data):\n",
    "    batch_indices = [_ for _ in range(int(len(data) / batch_size))]\n",
    "    random.shuffle(batch_indices)\n",
    "    for b_i in batch_indices:\n",
    "        for i in range(b_i * batch_size, (b_i + 1) * batch_size):\n",
    "            yield i"
   ]
  },
  {
   "cell_type": "code",
   "execution_count": 68,
   "metadata": {},
   "outputs": [],
   "source": [
    "def input_sampler(*args, **kwargs):\n",
    "    A = randvec(4)\n",
    "    B = randvec(4)\n",
    "    C = randvec(4)\n",
    "    D = randvec(4)\n",
    "    if kwargs.get('output_var', None) is None:\n",
    "        return random.choice([\n",
    "            {\"W\": A, \"X\": B, \"Y\": C, \"Z\": D},\n",
    "            {\"W\": A, \"X\": A, \"Y\": B, \"Z\": B},\n",
    "            {\"W\": A, \"X\": A, \"Y\": C, \"Z\": D},\n",
    "            {\"W\": A, \"X\": B, \"Y\": C, \"Z\": C}\n",
    "        ])\n",
    "    elif kwargs['output_var'] == 'WX' and kwargs['output_var_value']:\n",
    "        return random.choice([\n",
    "            {\"W\": A, \"X\": A, \"Y\": C, \"Z\": D},\n",
    "            {\"W\": A, \"X\": A, \"Y\": C, \"Z\": C}\n",
    "        ])\n",
    "    elif kwargs['output_var'] == 'WX' and not kwargs['output_var_value']:\n",
    "        return random.choice([\n",
    "            {\"W\": A, \"X\": B, \"Y\": C, \"Z\": D},\n",
    "            {\"W\": A, \"X\": B, \"Y\": C, \"Z\": C}\n",
    "        ])\n",
    "    elif kwargs['output_var'] == 'YZ' and kwargs['output_var_value']:\n",
    "        return random.choice([\n",
    "            {\"W\": A, \"X\": B, \"Y\": C, \"Z\": C},\n",
    "            {\"W\": A, \"X\": A, \"Y\": C, \"Z\": C}\n",
    "        ])\n",
    "    else:\n",
    "        return random.choice([\n",
    "            {\"W\": A, \"X\": B, \"Y\": C, \"Z\": D},\n",
    "            {\"W\": A, \"X\": A, \"Y\": C, \"Z\": D}\n",
    "        ])"
   ]
  },
  {
   "cell_type": "markdown",
   "metadata": {},
   "source": [
    "We again generate a counterfactual dataset using our high-level causal model:"
   ]
  },
  {
   "cell_type": "code",
   "execution_count": 69,
   "metadata": {},
   "outputs": [],
   "source": [
    "n_examples = 1280000\n",
    "batch_size = 6400\n",
    "train_dataset = equality_model.generate_counterfactual_dataset(\n",
    "    n_examples, intervention_id, batch_size, sampler=input_sampler\n",
    ")"
   ]
  },
  {
   "cell_type": "markdown",
   "metadata": {},
   "source": [
    "Then we train the orthgonal matrix to be such that the first four dimensions in the rotated space encode the high-level variable 'WX' and the second four dimensions encode the high-level variable 'YZ'. \n",
    "\n",
    "Again, we check the intervention_id for each batch of training data in order to determine whether to intervene of the first four rotated dimensions ('WX' is targetted at the high-level), the last four rotated dimensions ('YZ' is targetted at the high-level), or all of the dimensions ('WX' and 'YZ' are both targetted at the high-level). \n",
    "\n",
    "We can train the rotation matrix such that we get perfect interchange intervention accuracy, meaning the trained network perfectly implements the high-level algorithm on the training data."
   ]
  },
  {
   "cell_type": "code",
   "execution_count": 80,
   "metadata": {},
   "outputs": [
    {
     "name": "stdout",
     "output_type": "stream",
     "text": [
      "intervention trainable parameters:  256\n"
     ]
    },
    {
     "name": "stderr",
     "output_type": "stream",
     "text": [
      "Epoch: 0: 0it [00:00, ?it/s] [00:00<?, ?it/s]"
     ]
    },
    {
     "name": "stderr",
     "output_type": "stream",
     "text": [
      "Epoch: 0: 200it [01:17,  2.59it/s, loss=tensor(0.4580, device='cuda:0', grad_fn=<NllLossBackward0>), acc=0.872]\n",
      "Epoch: 1: 200it [00:54,  3.69it/s, loss=tensor(0.4646, device='cuda:0', grad_fn=<NllLossBackward0>), acc=0.89] \n",
      "Epoch: 2: 200it [00:53,  3.71it/s, loss=tensor(0.1925, device='cuda:0', grad_fn=<NllLossBackward0>), acc=0.962]\n",
      "Epoch: 3: 200it [00:53,  3.71it/s, loss=tensor(0.5047, device='cuda:0', grad_fn=<NllLossBackward0>), acc=0.837]\n",
      "Epoch: 4: 200it [00:54,  3.70it/s, loss=tensor(0.1448, device='cuda:0', grad_fn=<NllLossBackward0>), acc=0.969]\n",
      "Epoch: 5: 200it [00:52,  3.81it/s, loss=tensor(0.1444, device='cuda:0', grad_fn=<NllLossBackward0>), acc=0.967]\n",
      "Epoch: 6: 200it [00:58,  3.40it/s, loss=tensor(0.1562, device='cuda:0', grad_fn=<NllLossBackward0>), acc=0.97] \n",
      "Epoch: 7: 200it [01:04,  3.09it/s, loss=tensor(0.1703, device='cuda:0', grad_fn=<NllLossBackward0>), acc=0.958]\n",
      "Epoch: 8: 200it [01:05,  3.07it/s, loss=tensor(0.1553, device='cuda:0', grad_fn=<NllLossBackward0>), acc=0.959]\n",
      "Epoch: 9: 200it [01:04,  3.10it/s, loss=tensor(0.1505, device='cuda:0', grad_fn=<NllLossBackward0>), acc=0.967]\n",
      "Epoch: 100%|██████████| 10/10 [09:59<00:00, 59.91s/it]\n"
     ]
    }
   ],
   "source": [
    "intervenable.model.train()  # train enables drop-off but no grads\n",
    "print(\"intervention trainable parameters: \", intervenable.count_parameters())\n",
    "train_iterator = trange(0, int(epochs), desc=\"Epoch\")\n",
    "\n",
    "for epoch in train_iterator:\n",
    "    epoch_iterator = tqdm(\n",
    "        DataLoader(\n",
    "            train_dataset,\n",
    "            batch_size=batch_size,\n",
    "            sampler=batched_random_sampler(train_dataset),\n",
    "        ),\n",
    "        desc=f\"Epoch: {epoch}\",\n",
    "        position=0,\n",
    "        leave=True,\n",
    "    )\n",
    "    for batch in epoch_iterator:\n",
    "        batch[\"input_ids\"] = batch[\"input_ids\"].unsqueeze(1)\n",
    "        batch[\"source_input_ids\"] = batch[\"source_input_ids\"].unsqueeze(2)\n",
    "        batch_size = batch[\"input_ids\"].shape[0]\n",
    "        for k, v in batch.items():\n",
    "            if v is not None and isinstance(v, torch.Tensor):\n",
    "                batch[k] = v.to(\"cuda\")\n",
    "\n",
    "        if batch[\"intervention_id\"][0] == 2:\n",
    "            _, counterfactual_outputs = intervenable(\n",
    "                {\"inputs_embeds\": batch[\"input_ids\"]},\n",
    "                [\n",
    "                    {\"inputs_embeds\": batch[\"source_input_ids\"][:, 0]},\n",
    "                    {\"inputs_embeds\": batch[\"source_input_ids\"][:, 1]},\n",
    "                ],\n",
    "                {\n",
    "                    \"sources->base\": (\n",
    "                        [[[0]] * batch_size, [[0]] * batch_size],\n",
    "                        [[[0]] * batch_size, [[0]] * batch_size],\n",
    "                    )\n",
    "                },\n",
    "                subspaces=[\n",
    "                    [[_ for _ in range(0, embedding_dim * 2)]] * batch_size,\n",
    "                    [[_ for _ in range(embedding_dim * 2, embedding_dim * 4)]]\n",
    "                    * batch_size,\n",
    "                ],\n",
    "            )\n",
    "        elif batch[\"intervention_id\"][0] == 0:\n",
    "            _, counterfactual_outputs = intervenable(\n",
    "                {\"inputs_embeds\": batch[\"input_ids\"]},\n",
    "                [{\"inputs_embeds\": batch[\"source_input_ids\"][:, 0]}, None],\n",
    "                {\n",
    "                    \"sources->base\": (\n",
    "                        [[[0]] * batch_size, None],\n",
    "                        [[[0]] * batch_size, None],\n",
    "                    )\n",
    "                },\n",
    "                subspaces=[\n",
    "                    [[_ for _ in range(0, embedding_dim * 2)]] * batch_size,\n",
    "                    None,\n",
    "                ],\n",
    "            )\n",
    "        elif batch[\"intervention_id\"][0] == 1:\n",
    "            _, counterfactual_outputs = intervenable(\n",
    "                {\"inputs_embeds\": batch[\"input_ids\"]},\n",
    "                [None, {\"inputs_embeds\": batch[\"source_input_ids\"][:, 0]}],\n",
    "                {\n",
    "                    \"sources->base\": (\n",
    "                        [None, [[0]] * batch_size],\n",
    "                        [None, [[0]] * batch_size],\n",
    "                    )\n",
    "                },\n",
    "                subspaces=[\n",
    "                    None,\n",
    "                    [[_ for _ in range(embedding_dim * 2, embedding_dim * 4)]]\n",
    "                    * batch_size,\n",
    "                ],\n",
    "            )\n",
    "        eval_metrics = compute_metrics(\n",
    "            counterfactual_outputs[0].argmax(1), batch[\"labels\"].squeeze()\n",
    "        )\n",
    "\n",
    "        # loss and backprop\n",
    "        loss = compute_loss(\n",
    "            counterfactual_outputs[0], batch[\"labels\"].squeeze().to(torch.long)\n",
    "        )\n",
    "\n",
    "        epoch_iterator.set_postfix({\"loss\": loss, \"acc\": eval_metrics[\"accuracy\"]})\n",
    "\n",
    "        if gradient_accumulation_steps > 1:\n",
    "            loss = loss / gradient_accumulation_steps\n",
    "        loss.backward()\n",
    "        if total_step % gradient_accumulation_steps == 0:\n",
    "            optimizer.step()\n",
    "            intervenable.set_zero_grad()\n",
    "        total_step += 1"
   ]
  },
  {
   "cell_type": "markdown",
   "metadata": {},
   "source": [
    "What's more, is it generalizes unseen test data:"
   ]
  },
  {
   "cell_type": "code",
   "execution_count": 81,
   "metadata": {},
   "outputs": [],
   "source": [
    "test_dataset = test_equality_model.generate_counterfactual_dataset(\n",
    "    10000, intervention_id, batch_size, device=\"cuda:0\", sampler=input_sampler\n",
    ")"
   ]
  },
  {
   "cell_type": "code",
   "execution_count": 82,
   "metadata": {},
   "outputs": [
    {
     "name": "stderr",
     "output_type": "stream",
     "text": [
      "Test:   0%|          | 0/2 [00:00<?, ?it/s]"
     ]
    },
    {
     "name": "stderr",
     "output_type": "stream",
     "text": [
      "Test: 100%|██████████| 2/2 [00:00<00:00, 14.01it/s]"
     ]
    },
    {
     "name": "stdout",
     "output_type": "stream",
     "text": [
      "              precision    recall  f1-score   support\n",
      "\n",
      "         0.0       0.98      0.96      0.97      6407\n",
      "         1.0       0.96      0.98      0.97      6393\n",
      "\n",
      "    accuracy                           0.97     12800\n",
      "   macro avg       0.97      0.97      0.97     12800\n",
      "weighted avg       0.97      0.97      0.97     12800\n",
      "\n"
     ]
    },
    {
     "name": "stderr",
     "output_type": "stream",
     "text": [
      "\n"
     ]
    }
   ],
   "source": [
    "eval_labels = []\n",
    "eval_preds = []\n",
    "with torch.no_grad():\n",
    "    epoch_iterator = tqdm(DataLoader(test_dataset, batch_size), desc=f\"Test\")\n",
    "    for step, batch in enumerate(epoch_iterator):\n",
    "        for k, v in batch.items():\n",
    "            if v is not None and isinstance(v, torch.Tensor):\n",
    "                batch[k] = v.to(\"cuda\")\n",
    "        batch[\"input_ids\"] = batch[\"input_ids\"].unsqueeze(1)\n",
    "        batch[\"source_input_ids\"] = batch[\"source_input_ids\"].unsqueeze(2)\n",
    "        if batch[\"intervention_id\"][0] == 2:\n",
    "            _, counterfactual_outputs = intervenable(\n",
    "                {\"inputs_embeds\": batch[\"input_ids\"]},\n",
    "                [\n",
    "                    {\"inputs_embeds\": batch[\"source_input_ids\"][:, 0]},\n",
    "                    {\"inputs_embeds\": batch[\"source_input_ids\"][:, 1]},\n",
    "                ],\n",
    "                {\n",
    "                    \"sources->base\": (\n",
    "                        [[[0]] * batch_size, [[0]] * batch_size],\n",
    "                        [[[0]] * batch_size, [[0]] * batch_size],\n",
    "                    )\n",
    "                },\n",
    "                subspaces=[\n",
    "                    [[_ for _ in range(0, embedding_dim * 2)]] * batch_size,\n",
    "                    [[_ for _ in range(embedding_dim * 2, embedding_dim * 4)]]\n",
    "                    * batch_size,\n",
    "                ],\n",
    "            )\n",
    "        elif batch[\"intervention_id\"][0] == 0:\n",
    "            _, counterfactual_outputs = intervenable(\n",
    "                {\"inputs_embeds\": batch[\"input_ids\"]},\n",
    "                [{\"inputs_embeds\": batch[\"source_input_ids\"][:, 0]}, None],\n",
    "                {\n",
    "                    \"sources->base\": (\n",
    "                        [[[0]] * batch_size, None],\n",
    "                        [[[0]] * batch_size, None],\n",
    "                    )\n",
    "                },\n",
    "                subspaces=[\n",
    "                    [[_ for _ in range(0, embedding_dim * 2)]] * batch_size,\n",
    "                    None,\n",
    "                ],\n",
    "            )\n",
    "        elif batch[\"intervention_id\"][0] == 1:\n",
    "            _, counterfactual_outputs = intervenable(\n",
    "                {\"inputs_embeds\": batch[\"input_ids\"]},\n",
    "                [None, {\"inputs_embeds\": batch[\"source_input_ids\"][:, 0]}],\n",
    "                {\n",
    "                    \"sources->base\": (\n",
    "                        [None, [[0]] * batch_size],\n",
    "                        [None, [[0]] * batch_size],\n",
    "                    )\n",
    "                },\n",
    "                subspaces=[\n",
    "                    None,\n",
    "                    [[_ for _ in range(embedding_dim * 2, embedding_dim * 4)]]\n",
    "                    * batch_size,\n",
    "                ],\n",
    "            )\n",
    "        eval_labels += [batch[\"labels\"]]\n",
    "        eval_preds += [torch.argmax(counterfactual_outputs[0], dim=1)]\n",
    "print(classification_report(torch.cat(eval_labels).cpu(), torch.cat(eval_preds).cpu()))"
   ]
  }
 ],
 "metadata": {
  "interpreter": {
   "hash": "933b0a94e0d88ac80a17cb26ca3d8d36930c12815b02a2885c1925c2b1ae3c33"
  },
  "kernelspec": {
   "display_name": "Python 3 (ipykernel)",
   "language": "python",
   "name": "python3"
  },
  "language_info": {
   "codemirror_mode": {
    "name": "ipython",
    "version": 3
   },
   "file_extension": ".py",
   "mimetype": "text/x-python",
   "name": "python",
   "nbconvert_exporter": "python",
   "pygments_lexer": "ipython3",
   "version": "3.12.0"
  }
 },
 "nbformat": 4,
 "nbformat_minor": 4
}
