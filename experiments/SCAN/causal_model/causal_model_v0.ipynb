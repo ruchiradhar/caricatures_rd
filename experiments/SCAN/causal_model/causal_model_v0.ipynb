{
 "cells": [
  {
   "cell_type": "markdown",
   "id": "58cbd3ec-a667-4f70-9c08-1f08e5c34e85",
   "metadata": {},
   "source": [
    "# SCAN Dataset"
   ]
  },
  {
   "cell_type": "markdown",
   "id": "1dbdbaec-653f-448b-a1bc-ac02b0dd5006",
   "metadata": {},
   "source": [
    "Each example in the SCAN dataset is aimed at converting a natural language command to a sequence of actions. \n",
    "\n",
    "$$ InputCommand \\longrightarrow OutputSequence$$\n",
    "\n",
    "Example: \n",
    "\n",
    "$$jump \\qquad  thrice \\longrightarrow JUMP \\qquad  JUMP\\qquad  JUMP$$"
   ]
  },
  {
   "cell_type": "markdown",
   "id": "d1059489-cd0a-4935-b5d4-495e77547d5c",
   "metadata": {},
   "source": [
    "## Phrase Structure Grammar \n",
    "\n",
    "The input commands can be generated with a basic PS grammar starting from C and ending with U: \n",
    "\n",
    "1. C $\\longrightarrow$ S and S\n",
    "2. C $\\longrightarrow$ S after S\n",
    "3. C $\\longrightarrow$ S\n",
    "4. S $\\longrightarrow$ V twice\n",
    "5. S $\\longrightarrow$ V thrice\n",
    "6. S $\\longrightarrow$ V\n",
    "7. V $\\longrightarrow$ D[1] opposite D[2]\n",
    "8. V $\\longrightarrow$ D[1] around D[2]\n",
    "9. V $\\longrightarrow$ D\n",
    "10. V $\\longrightarrow$ U\n",
    "11. D $\\longrightarrow$ U left\n",
    "12. D $\\longrightarrow$ U right\n",
    "13. D $\\longrightarrow$ turn left\n",
    "14. D $\\longrightarrow$ turn right\n",
    "15. U $\\longrightarrow$ walk\n",
    "16. U $\\longrightarrow$ run\n",
    "17. U $\\longrightarrow$ jump\n",
    "18. U $\\longrightarrow$ look\n",
    "\n",
    "Where C=Full Command, S= Sentence Phrase, V= Verb Phrase, D= Direction Phrase, U= Verb"
   ]
  },
  {
   "cell_type": "markdown",
   "id": "53d5ad59-d47c-47bd-98f1-878d754c1e50",
   "metadata": {},
   "source": [
    "## Interpretation Function\n",
    "\n",
    "[[walk]] = WALK \n",
    "\n",
    "[[jump]] = JUMP\n",
    "\n",
    "[[run]]= RUN\n",
    "\n",
    "[[look]]= LOOK\n",
    "\n",
    "[[turn left]] = LTURN\n",
    "\n",
    "[[turn right]] = RTURN\n",
    "\n",
    "[[u left]]= LTURN [[u]]\n",
    "\n",
    "[[u right]]= RTURN [[u]]\n",
    "\n",
    "[[turn opposite left]] = LTURN LTURN\n",
    "\n",
    "[[turn opposite right]] = RTURN RTURN\n",
    "\n",
    "[[u opposite left]] = [[turn opposite left]] [[u]]\n",
    "\n",
    "[[u opposite right]] = [[turn opposite right]] [[u]]\n",
    "\n",
    "[[turn around left]] = LTURN LTURN LTURN LTURN\n",
    "\n",
    "[[turn around right]] = RTURN RTURN RTURN RTURN\n",
    "\n",
    "[[u around left]]= LTURN [[u]] LTURN [[u]] LTURN [[u]] LTURN [[u]]\n",
    "\n",
    "[[u around right]]= RTURN [[u]] RTURN [[u]] RTURN [[u]] RTURN [[u]]\n",
    "\n",
    "[[x twice]] = [[x]] [[x]]\n",
    "\n",
    "[[x thrice]] = [[x]] [[x]] [[x]]\n",
    "\n",
    "[[x1 and x2]] = [[x1]] [[x2]]\n",
    "\n",
    "[[x1 after x2]] = [[x2]] [[x1]] "
   ]
  },
  {
   "cell_type": "code",
   "execution_count": 2,
   "id": "3eaa5ac8",
   "metadata": {},
   "outputs": [],
   "source": [
    "from datasets import load_dataset\n",
    "\n",
    "scan_simple = load_dataset(\"scan\", \"simple\", trust_remote_code=True)\n",
    "scan_length = load_dataset(\"scan\", \"length\", trust_remote_code=True)"
   ]
  },
  {
   "cell_type": "code",
   "execution_count": 217,
   "id": "b6eaa1c7",
   "metadata": {},
   "outputs": [
    {
     "data": {
      "text/plain": [
       "{'commands': 'jump around right and walk around left twice',\n",
       " 'actions': 'I_TURN_RIGHT I_JUMP I_TURN_RIGHT I_JUMP I_TURN_RIGHT I_JUMP I_TURN_RIGHT I_JUMP I_TURN_LEFT I_WALK I_TURN_LEFT I_WALK I_TURN_LEFT I_WALK I_TURN_LEFT I_WALK I_TURN_LEFT I_WALK I_TURN_LEFT I_WALK I_TURN_LEFT I_WALK I_TURN_LEFT I_WALK'}"
      ]
     },
     "execution_count": 217,
     "metadata": {},
     "output_type": "execute_result"
    }
   ],
   "source": [
    "scan_length['test'][5]"
   ]
  },
  {
   "cell_type": "code",
   "execution_count": 206,
   "id": "cd6c90a0",
   "metadata": {},
   "outputs": [
    {
     "name": "stdout",
     "output_type": "stream",
     "text": [
      "2\n",
      "2\n"
     ]
    }
   ],
   "source": [
    "num_actions = []\n",
    "num_turns = []\n",
    "for x in scan_simple['train']:\n",
    "    command = x['commands']\n",
    "    num_actions.append((sum([command.split().count(a) for a in actions.keys()])))\n",
    "    num_turns.append((sum([command.split().count(a) for a in turns.keys()])))\n",
    "\n",
    "print(max(num_actions))\n",
    "print(max(num_turns))"
   ]
  },
  {
   "cell_type": "code",
   "execution_count": 277,
   "id": "cd604b0e",
   "metadata": {},
   "outputs": [
    {
     "data": {
      "text/plain": [
       "{'commands': 'jump opposite right twice and turn opposite right thrice',\n",
       " 'actions': 'I_TURN_RIGHT I_TURN_RIGHT I_JUMP I_TURN_RIGHT I_TURN_RIGHT I_JUMP I_TURN_RIGHT I_TURN_RIGHT I_TURN_RIGHT I_TURN_RIGHT I_TURN_RIGHT I_TURN_RIGHT'}"
      ]
     },
     "execution_count": 277,
     "metadata": {},
     "output_type": "execute_result"
    }
   ],
   "source": [
    "scan_simple['train'][0]"
   ]
  },
  {
   "cell_type": "code",
   "execution_count": 278,
   "id": "55ed7d28",
   "metadata": {},
   "outputs": [
    {
     "data": {
      "text/plain": [
       "{'commands': 'run opposite left after walk right',\n",
       " 'actions': 'I_TURN_RIGHT I_WALK I_TURN_LEFT I_TURN_LEFT I_RUN'}"
      ]
     },
     "execution_count": 278,
     "metadata": {},
     "output_type": "execute_result"
    }
   ],
   "source": [
    "scan_simple['train'][1]"
   ]
  },
  {
   "cell_type": "markdown",
   "id": "6b900420-38cc-403d-b4d4-99d0980be607",
   "metadata": {},
   "source": [
    "## Building Causal Model\n",
    "\n",
    "Ideal Causal Algorithm: \n",
    "\n",
    "1. Layer 0: For a given command like \"jump thrice and turn left\", get list of leaf nodes.\n",
    "2. Layer 1: Get the phrase divisions based on \"and\" and \"after\" \n",
    "3. Layer 2: Use interpretation function to get an interpretation for each node\n",
    "4. Layer 3: Use variable binding to remove all variables\n",
    "5. Layer 4: Get final action sequence"
   ]
  },
  {
   "cell_type": "code",
   "execution_count": 3,
   "id": "0247d68a",
   "metadata": {},
   "outputs": [],
   "source": [
    "actions = {\n",
    "    \"walk\": \"I_WALK\",\n",
    "    \"run\": \"I_RUN\",\n",
    "    \"jump\": \"I_JUMP\",\n",
    "    \"look\": \"I_LOOK\"\n",
    "    }\n",
    "\n",
    "## around and opposite behave differently ##\n",
    "turns = {\n",
    "    \"around\": \"yyyy\",\n",
    "    \"opposite\": \"yy\"\n",
    "}\n",
    "\n",
    "directions = {\n",
    "    \"right\": \"I_TURN_RIGHT\",\n",
    "    \"left\": \"I_TURN_LEFT\"\n",
    "}\n",
    "\n",
    "nums = {\n",
    "    \"twice\": \"xx\",\n",
    "    \"thrice\": \"xxx\"\n",
    "}\n",
    "\n",
    "classes = [actions, turns, directions, nums]\n",
    "\n",
    "turns_inv = {v: k for k, v in turns.items()}\n",
    "nums_inv = {v: k for k, v in nums.items()}\n"
   ]
  },
  {
   "cell_type": "code",
   "execution_count": null,
   "id": "b6bdf1b3",
   "metadata": {},
   "outputs": [],
   "source": [
    "checklist = [\n",
    "    'jump thrice and turn left',\n",
    "    'run opposite left after walk right',\n",
    "    'walk after run around right twice',\n",
    "    'jump around right and walk around left twice',\n",
    "    'run around left thrice after walk left twice',\n",
    "    'jump opposite right twice and turn opposite right thrice',\n",
    "    'run around left thrice after walk left twice',\n",
    "    'turn around right twice after run around right thrice'\n",
    "    'walk opposite left',\n",
    "    ]"
   ]
  },
  {
   "cell_type": "code",
   "execution_count": 506,
   "id": "42a3bc43-52c2-43ff-8f7e-77a3084e42c2",
   "metadata": {},
   "outputs": [
    {
     "name": "stdout",
     "output_type": "stream",
     "text": [
      "['walk', 'opposite', 'left']\n"
     ]
    }
   ],
   "source": [
    "# layer 0: get list of leaf nodes\n",
    "#command= \"jump thrice and turn left\"\n",
    "#command = \"run opposite left after walk right\"\n",
    "#command = 'walk after run around right twice'\n",
    "#command = 'jump around right and walk around left twice'\n",
    "#command = 'run around left thrice after walk left twice'\n",
    "#command = 'jump opposite right twice and turn opposite right thrice'\n",
    "#command = 'run around left thrice after walk left twice'\n",
    "#command = 'turn around right twice after run around right thrice'\n",
    "command = 'walk opposite left'\n",
    "l0=command.split()\n",
    "l0 = list(filter(lambda a: a != 'turn', l0))\n",
    "print(l0)"
   ]
  },
  {
   "cell_type": "code",
   "execution_count": 507,
   "id": "db551789-f41a-4a55-8127-9e3a77e77aec",
   "metadata": {},
   "outputs": [
    {
     "name": "stdout",
     "output_type": "stream",
     "text": [
      "[['walk', 'opposite', 'left'], []]\n"
     ]
    }
   ],
   "source": [
    "# layer 1: get phrase divisions\n",
    "if 'and' in l0:\n",
    "    # maintain order of command\n",
    "    l11=l0[:l0.index(\"and\")] \n",
    "    l12= l0[l0.index(\"and\")+1:]\n",
    "elif 'after' in l0:\n",
    "    # reverse order of command\n",
    "    l11= l0[l0.index(\"after\")+1:]\n",
    "    l12=l0[:l0.index(\"after\")] \n",
    "else:\n",
    "    l11=l0\n",
    "    l12=[]\n",
    "\n",
    "l1=[l11,l12]\n",
    "print(l1)"
   ]
  },
  {
   "cell_type": "code",
   "execution_count": 508,
   "id": "188cd579-9341-401a-9919-d0165edfc9f6",
   "metadata": {},
   "outputs": [
    {
     "name": "stdout",
     "output_type": "stream",
     "text": [
      "[['I_TURN_LEFT', 'yy', 'I_WALK'], []]\n"
     ]
    }
   ],
   "source": [
    "# layer 2: apply interpretation function depending on word class\n",
    "l21 = [classes[[w in c for c in classes].index(True)][w] for w in l11]\n",
    "l21 = list(reversed(l21))\n",
    "\n",
    "l22 = [classes[[w in c for c in classes].index(True)][w] for w in l12]\n",
    "l22 = list(reversed(l22))\n",
    "\n",
    "l2=[l21,l22]\n",
    "print(l2)\n"
   ]
  },
  {
   "cell_type": "code",
   "execution_count": 7,
   "id": "ea3f9ebb",
   "metadata": {},
   "outputs": [],
   "source": [
    "# layer 3: variable binding\n",
    "\n",
    "def variable_binding(l):\n",
    "\n",
    "\n",
    "    if not any(x in l for x in list(turns_inv.keys())+list(nums_inv.keys())):\n",
    "        return [' '.join(l)]\n",
    "\n",
    "    for n, v in turns_inv.items():\n",
    "        if n not in l:\n",
    "            continue\n",
    "        ind = l.index(n)\n",
    "        op = l[ind]\n",
    "        if v == 'around':\n",
    "            if l[-1] in set(actions.values()):\n",
    "                dec_act = (l[ind-1]+' '+l[-1]+' ')*len(op)\n",
    "            else:\n",
    "                dec_act = (l[ind-1]+' ')*len(op)\n",
    "            dec_act = dec_act.strip()\n",
    "            l[ind] = dec_act\n",
    "        else:\n",
    "            if l[-1] in set(actions.values()):\n",
    "                dec_act = (l[ind-1]+' ')*len(op) + l[-1]\n",
    "            else:\n",
    "                dec_act = (l[ind-1]+' ')*len(op)\n",
    "\n",
    "            dec_act = dec_act.strip()\n",
    "            l[ind] = dec_act\n",
    "            \n",
    "        l.pop(ind-1)\n",
    "        if l[-1] in set(actions.values()):\n",
    "            l.pop(-1)\n",
    "\n",
    "            \n",
    "    for n, v in nums_inv.items():\n",
    "        if n not in l:\n",
    "            continue\n",
    "        ind = l.index(n)\n",
    "        op = l[ind]\n",
    "        dec_act = ((' '.join(l[ind+1:])+' ')*len(op)).strip()\n",
    "        l[ind] = dec_act\n",
    "\n",
    "    return l[:1]"
   ]
  },
  {
   "cell_type": "code",
   "execution_count": 510,
   "id": "9b728f0c",
   "metadata": {},
   "outputs": [
    {
     "name": "stdout",
     "output_type": "stream",
     "text": [
      "[['I_TURN_LEFT I_TURN_LEFT I_WALK'], ['']]\n"
     ]
    }
   ],
   "source": [
    "\n",
    "l31 = variable_binding(l21)\n",
    "\n",
    "l32 = variable_binding(l22)\n",
    "\n",
    "\n",
    "l3=[l31,l32]\n",
    "print(l3)"
   ]
  },
  {
   "cell_type": "code",
   "execution_count": null,
   "id": "cfffc1af",
   "metadata": {},
   "outputs": [],
   "source": [
    "{'commands': 'jump opposite right twice and turn opposite right thrice',\n",
    " 'actions': 'I_TURN_RIGHT I_TURN_RIGHT I_JUMP I_TURN_RIGHT I_TURN_RIGHT I_JUMP I_TURN_RIGHT I_TURN_RIGHT I_TURN_RIGHT I_TURN_RIGHT I_TURN_RIGHT I_TURN_RIGHT'}"
   ]
  },
  {
   "cell_type": "code",
   "execution_count": 511,
   "id": "787f1eb3-db9a-4d52-8799-2df934ab3778",
   "metadata": {},
   "outputs": [
    {
     "name": "stdout",
     "output_type": "stream",
     "text": [
      "I_TURN_LEFT I_TURN_LEFT I_WALK \n"
     ]
    }
   ],
   "source": [
    "# layer 4: action sequence output\n",
    "sequence = ' '.join([item for sublist in l3 for item in sublist])\n",
    "print(sequence)"
   ]
  },
  {
   "cell_type": "code",
   "execution_count": 516,
   "id": "b7809b8d",
   "metadata": {},
   "outputs": [
    {
     "data": {
      "text/plain": [
       "True"
      ]
     },
     "execution_count": 516,
     "metadata": {},
     "output_type": "execute_result"
    }
   ],
   "source": [
    "l32[0] == ''"
   ]
  },
  {
   "cell_type": "markdown",
   "id": "c6d2d2c7",
   "metadata": {},
   "source": [
    "#### Causal Model Function"
   ]
  },
  {
   "cell_type": "code",
   "execution_count": 8,
   "id": "1c1c590e",
   "metadata": {},
   "outputs": [],
   "source": [
    "actions = {\n",
    "    \"walk\": \"I_WALK\",\n",
    "    \"run\": \"I_RUN\",\n",
    "    \"jump\": \"I_JUMP\",\n",
    "    \"look\": \"I_LOOK\"\n",
    "    }\n",
    "\n",
    "## around and opposite behave differently ##\n",
    "turns = {\n",
    "    \"around\": \"yyyy\",\n",
    "    \"opposite\": \"yy\"\n",
    "}\n",
    "\n",
    "directions = {\n",
    "    \"right\": \"I_TURN_RIGHT\",\n",
    "    \"left\": \"I_TURN_LEFT\"\n",
    "}\n",
    "\n",
    "nums = {\n",
    "    \"twice\": \"xx\",\n",
    "    \"thrice\": \"xxx\"\n",
    "}\n",
    "\n",
    "classes = [actions, turns, directions, nums]\n",
    "\n",
    "turns_inv = {v: k for k, v in turns.items()}\n",
    "nums_inv = {v: k for k, v in nums.items()}\n",
    "\n",
    "\n",
    "def causal_model(command):\n",
    "\n",
    "    l0=command.split()\n",
    "    l0 = list(filter(lambda a: a != 'turn', l0))\n",
    "\n",
    "    # layer 1: get phrase divisions\n",
    "    if 'and' in l0:\n",
    "        # maintain order of command\n",
    "        l11=l0[:l0.index(\"and\")] \n",
    "        l12= l0[l0.index(\"and\")+1:]\n",
    "    elif 'after' in l0:\n",
    "        # reverse order of command\n",
    "        l11= l0[l0.index(\"after\")+1:]\n",
    "        l12=l0[:l0.index(\"after\")] \n",
    "    else:\n",
    "        l11=l0\n",
    "        l12=[]\n",
    "\n",
    "    l1=[l11,l12]\n",
    "\n",
    "    # layer 2: apply interpretation function depending on word class\n",
    "    l21 = [classes[[w in c for c in classes].index(True)][w] for w in l11]\n",
    "    l21 = list(reversed(l21))\n",
    "\n",
    "    l22 = [classes[[w in c for c in classes].index(True)][w] for w in l12]\n",
    "    l22 = list(reversed(l22))\n",
    "\n",
    "    l2=[l21,l22]\n",
    "\n",
    "    # layer 3: variable binding\n",
    "    l31 = variable_binding(l21)\n",
    "    l32 = variable_binding(l22)\n",
    "\n",
    "    l3=[l31,l32]\n",
    "\n",
    "    # layer 4: action sequence output\n",
    "    sequence = ' '.join([item for sublist in l3 for item in sublist])\n",
    "    \n",
    "    return sequence.strip()"
   ]
  },
  {
   "cell_type": "code",
   "execution_count": 10,
   "id": "b5deaa29",
   "metadata": {},
   "outputs": [],
   "source": [
    "count = 0\n",
    "\n",
    "for x in scan_simple['test']:\n",
    "    command = x['commands']\n",
    "    label = x['actions']\n",
    "    output = causal_model(command)\n",
    "    if label != output:\n",
    "        print(command)\n",
    "        print(label)\n",
    "        print(output)\n",
    "        break\n"
   ]
  },
  {
   "cell_type": "code",
   "execution_count": 498,
   "id": "3877dffd",
   "metadata": {},
   "outputs": [
    {
     "data": {
      "text/plain": [
       "'I_TURN_LEFT I_TURN_LEFT I_WALK'"
      ]
     },
     "execution_count": 498,
     "metadata": {},
     "output_type": "execute_result"
    }
   ],
   "source": [
    "label"
   ]
  },
  {
   "cell_type": "code",
   "execution_count": 499,
   "id": "b479058b",
   "metadata": {},
   "outputs": [
    {
     "data": {
      "text/plain": [
       "'I_TURN_LEFT I_TURN_LEFT I_WALK '"
      ]
     },
     "execution_count": 499,
     "metadata": {},
     "output_type": "execute_result"
    }
   ],
   "source": [
    "output"
   ]
  },
  {
   "cell_type": "code",
   "execution_count": null,
   "id": "37b218c0",
   "metadata": {},
   "outputs": [],
   "source": []
  }
 ],
 "metadata": {
  "kernelspec": {
   "display_name": "nlp",
   "language": "python",
   "name": "python3"
  },
  "language_info": {
   "codemirror_mode": {
    "name": "ipython",
    "version": 3
   },
   "file_extension": ".py",
   "mimetype": "text/x-python",
   "name": "python",
   "nbconvert_exporter": "python",
   "pygments_lexer": "ipython3",
   "version": "3.12.0"
  }
 },
 "nbformat": 4,
 "nbformat_minor": 5
}
