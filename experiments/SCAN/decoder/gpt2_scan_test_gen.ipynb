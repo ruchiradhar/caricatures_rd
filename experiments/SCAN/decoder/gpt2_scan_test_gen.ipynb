{
 "cells": [
  {
   "cell_type": "code",
   "execution_count": null,
   "id": "975b8951-366d-4add-aa11-8291ec8a1bdc",
   "metadata": {},
   "outputs": [],
   "source": [
    "import torch\n",
    "from datasets import load_dataset\n",
    "from transformers import AutoTokenizer, GPT2LMHeadModel"
   ]
  },
  {
   "cell_type": "code",
   "execution_count": null,
   "id": "54539932-d248-4c9f-9085-ec4b3a633196",
   "metadata": {},
   "outputs": [],
   "source": [
    "tokenizer = AutoTokenizer.from_pretrained(\"openai-community/gpt2\")\n",
    "\n",
    "model = GPT2LMHeadModel.from_pretrained(\"/home/drdo/Caricatures/models/scan_gpt2/checkpoint-10000/\")"
   ]
  },
  {
   "cell_type": "code",
   "execution_count": null,
   "id": "bf8598b0-3238-48c4-84e2-4a10926400fc",
   "metadata": {},
   "outputs": [],
   "source": [
    "dataset = load_dataset(\"scan\", \"simple\", trust_remote_code=True)"
   ]
  },
  {
   "cell_type": "code",
   "execution_count": null,
   "id": "dc768371-1801-4fe5-8f0b-56515a41557e",
   "metadata": {},
   "outputs": [],
   "source": [
    "dataset['test'][0]"
   ]
  },
  {
   "cell_type": "code",
   "execution_count": null,
   "id": "1d8c4ba5-c140-443e-9aa9-38d98ba5b639",
   "metadata": {},
   "outputs": [],
   "source": [
    "inputs = tokenizer(\"turn opposite right thrice and turn opposite left\", return_tensors=\"pt\")\n",
    "tokenizer.decode(model.generate(**inputs)[0])"
   ]
  },
  {
   "cell_type": "code",
   "execution_count": null,
   "id": "808cec83-5e55-457c-b3d5-09d42e9824b7",
   "metadata": {},
   "outputs": [],
   "source": [
    "tokenizer.decode(model.generate(**inputs)[0])"
   ]
  }
 ],
 "metadata": {
  "kernelspec": {
   "display_name": "Python 3 (ipykernel)",
   "language": "python",
   "name": "python3"
  },
  "language_info": {
   "codemirror_mode": {
    "name": "ipython",
    "version": 3
   },
   "file_extension": ".py",
   "mimetype": "text/x-python",
   "name": "python",
   "nbconvert_exporter": "python",
   "pygments_lexer": "ipython3",
   "version": "3.12.0"
  }
 },
 "nbformat": 4,
 "nbformat_minor": 5
}
