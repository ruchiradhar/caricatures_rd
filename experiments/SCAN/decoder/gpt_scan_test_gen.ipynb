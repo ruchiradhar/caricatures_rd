{
 "cells": [
  {
   "cell_type": "code",
   "execution_count": 2,
   "id": "975b8951-366d-4add-aa11-8291ec8a1bdc",
   "metadata": {},
   "outputs": [],
   "source": [
    "import torch\n",
    "from datasets import load_dataset\n",
    "from transformers import AutoTokenizer, GPT2LMHeadModel"
   ]
  },
  {
   "cell_type": "code",
   "execution_count": 12,
   "id": "54539932-d248-4c9f-9085-ec4b3a633196",
   "metadata": {},
   "outputs": [],
   "source": [
    "tokenizer = AutoTokenizer.from_pretrained(\"distilbert/distilgpt2\")\n",
    "\n",
    "model = GPT2LMHeadModel.from_pretrained(\"/users/ujan/caricatures/models/scan/distilgpt2_13k\")"
   ]
  },
  {
   "cell_type": "code",
   "execution_count": 13,
   "id": "bf8598b0-3238-48c4-84e2-4a10926400fc",
   "metadata": {},
   "outputs": [],
   "source": [
    "dataset = load_dataset(\"scan\", \"simple\", trust_remote_code=True)"
   ]
  },
  {
   "cell_type": "code",
   "execution_count": 14,
   "id": "127e168e",
   "metadata": {},
   "outputs": [
    {
     "data": {
      "text/plain": [
       "['commands', 'actions']"
      ]
     },
     "execution_count": 14,
     "metadata": {},
     "output_type": "execute_result"
    }
   ],
   "source": [
    "dataset['train'].column_names"
   ]
  },
  {
   "cell_type": "code",
   "execution_count": 27,
   "id": "dc768371-1801-4fe5-8f0b-56515a41557e",
   "metadata": {},
   "outputs": [
    {
     "data": {
      "text/plain": [
       "{'commands': 'run right twice after walk right twice',\n",
       " 'actions': 'I_TURN_RIGHT I_WALK I_TURN_RIGHT I_WALK I_TURN_RIGHT I_RUN I_TURN_RIGHT I_RUN'}"
      ]
     },
     "execution_count": 27,
     "metadata": {},
     "output_type": "execute_result"
    }
   ],
   "source": [
    "dataset['test'][1]"
   ]
  },
  {
   "cell_type": "code",
   "execution_count": 29,
   "id": "1d8c4ba5-c140-443e-9aa9-38d98ba5b639",
   "metadata": {},
   "outputs": [
    {
     "name": "stderr",
     "output_type": "stream",
     "text": [
      "Setting `pad_token_id` to `eos_token_id`:50256 for open-end generation.\n"
     ]
    },
    {
     "data": {
      "text/plain": [
       "'run right twice after walk right twice<sep>_TURN_RIGHT I_WALK I_TURN_RIGHT I_WALK I_TURN_RIGHT I_RUN I_TURN_RIGHT I_RUN<|endoftext|>'"
      ]
     },
     "execution_count": 29,
     "metadata": {},
     "output_type": "execute_result"
    }
   ],
   "source": [
    "inputs = tokenizer(\"run right twice after walk right twice<sep>\", return_tensors=\"pt\")\n",
    "tokenizer.decode(model.generate(**inputs)[0])"
   ]
  },
  {
   "cell_type": "code",
   "execution_count": null,
   "id": "0c39e5c9",
   "metadata": {},
   "outputs": [],
   "source": [
    "## look at generation eos condition\n",
    "# check training inputs\n",
    "# eval acc"
   ]
  },
  {
   "cell_type": "code",
   "execution_count": 24,
   "id": "1b9e4637",
   "metadata": {},
   "outputs": [],
   "source": [
    "model.generation_config.max_length = 100"
   ]
  },
  {
   "cell_type": "code",
   "execution_count": 11,
   "id": "1bcf2869",
   "metadata": {},
   "outputs": [
    {
     "data": {
      "text/plain": [
       "'<|endoftext|>'"
      ]
     },
     "execution_count": 11,
     "metadata": {},
     "output_type": "execute_result"
    }
   ],
   "source": [
    "tokenizer.eos_token"
   ]
  },
  {
   "cell_type": "code",
   "execution_count": 23,
   "id": "e4428457",
   "metadata": {},
   "outputs": [],
   "source": [
    "model.generation_config.max_length = 512"
   ]
  },
  {
   "cell_type": "code",
   "execution_count": 24,
   "id": "568c4b93",
   "metadata": {},
   "outputs": [
    {
     "data": {
      "text/plain": [
       "512"
      ]
     },
     "execution_count": 24,
     "metadata": {},
     "output_type": "execute_result"
    }
   ],
   "source": [
    "model.generation_config.max_length"
   ]
  },
  {
   "cell_type": "code",
   "execution_count": 7,
   "id": "15a2bad3",
   "metadata": {},
   "outputs": [],
   "source": [
    "command = dataset['test'][0]['commands']\n",
    "action = dataset['test'][0]['actions']"
   ]
  },
  {
   "cell_type": "code",
   "execution_count": 18,
   "id": "d77f4f82",
   "metadata": {},
   "outputs": [
    {
     "data": {
      "text/plain": [
       "[15344,\n",
       " 6697,\n",
       " 826,\n",
       " 5636,\n",
       " 501,\n",
       " 290,\n",
       " 1210,\n",
       " 6697,\n",
       " 1364,\n",
       " 50256,\n",
       " 40,\n",
       " 62,\n",
       " 51,\n",
       " 27064,\n",
       " 62,\n",
       " 49,\n",
       " 9947,\n",
       " 314,\n",
       " 62,\n",
       " 51,\n",
       " 27064,\n",
       " 62,\n",
       " 49,\n",
       " 9947,\n",
       " 314,\n",
       " 62,\n",
       " 51,\n",
       " 27064,\n",
       " 62,\n",
       " 49,\n",
       " 9947,\n",
       " 314,\n",
       " 62,\n",
       " 51,\n",
       " 27064,\n",
       " 62,\n",
       " 49,\n",
       " 9947,\n",
       " 314,\n",
       " 62,\n",
       " 51,\n",
       " 27064,\n",
       " 62,\n",
       " 49,\n",
       " 9947,\n",
       " 314,\n",
       " 62,\n",
       " 51,\n",
       " 27064,\n",
       " 62,\n",
       " 49,\n",
       " 9947,\n",
       " 314,\n",
       " 62,\n",
       " 51,\n",
       " 27064,\n",
       " 62,\n",
       " 2538,\n",
       " 9792,\n",
       " 314,\n",
       " 62,\n",
       " 51,\n",
       " 27064,\n",
       " 62,\n",
       " 2538,\n",
       " 9792,\n",
       " 50256]"
      ]
     },
     "execution_count": 18,
     "metadata": {},
     "output_type": "execute_result"
    }
   ],
   "source": [
    "tokenizer(command+tokenizer.eos_token, action+tokenizer.eos_token)['input_ids']"
   ]
  },
  {
   "cell_type": "code",
   "execution_count": 9,
   "id": "6c5415e1",
   "metadata": {},
   "outputs": [
    {
     "data": {
      "text/plain": [
       "50256"
      ]
     },
     "execution_count": 9,
     "metadata": {},
     "output_type": "execute_result"
    }
   ],
   "source": [
    "tokenizer.bos_token_id"
   ]
  },
  {
   "cell_type": "code",
   "execution_count": 12,
   "id": "c83f5540",
   "metadata": {},
   "outputs": [
    {
     "data": {
      "text/plain": [
       "50256"
      ]
     },
     "execution_count": 12,
     "metadata": {},
     "output_type": "execute_result"
    }
   ],
   "source": [
    "tokenizer.eos_token_id"
   ]
  },
  {
   "cell_type": "code",
   "execution_count": 17,
   "id": "6bfe3077",
   "metadata": {},
   "outputs": [
    {
     "data": {
      "text/plain": [
       "50256"
      ]
     },
     "execution_count": 17,
     "metadata": {},
     "output_type": "execute_result"
    }
   ],
   "source": [
    "model.generation_config.eos_token_id"
   ]
  },
  {
   "cell_type": "code",
   "execution_count": 24,
   "id": "396f2921",
   "metadata": {},
   "outputs": [],
   "source": [
    "a = ['a','b','c']\n",
    "s = 'x'"
   ]
  },
  {
   "cell_type": "code",
   "execution_count": 25,
   "id": "b913956e",
   "metadata": {},
   "outputs": [
    {
     "data": {
      "text/plain": [
       "['ax', 'bx', 'cx']"
      ]
     },
     "execution_count": 25,
     "metadata": {},
     "output_type": "execute_result"
    }
   ],
   "source": [
    "[i+s for i in a]"
   ]
  },
  {
   "cell_type": "code",
   "execution_count": null,
   "id": "07f91f39",
   "metadata": {},
   "outputs": [],
   "source": []
  }
 ],
 "metadata": {
  "kernelspec": {
   "display_name": "Python 3 (ipykernel)",
   "language": "python",
   "name": "python3"
  },
  "language_info": {
   "codemirror_mode": {
    "name": "ipython",
    "version": 3
   },
   "file_extension": ".py",
   "mimetype": "text/x-python",
   "name": "python",
   "nbconvert_exporter": "python",
   "pygments_lexer": "ipython3",
   "version": "3.12.2"
  }
 },
 "nbformat": 4,
 "nbformat_minor": 5
}
